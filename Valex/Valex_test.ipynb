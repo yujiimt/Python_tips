{
  "nbformat": 4,
  "nbformat_minor": 0,
  "metadata": {
    "colab": {
      "name": "Valex_test",
      "provenance": [],
      "authorship_tag": "ABX9TyNaCKtY2bnDobUVm5DcX30E",
      "include_colab_link": true
    },
    "kernelspec": {
      "name": "python3",
      "display_name": "Python 3"
    }
  },
  "cells": [
    {
      "cell_type": "markdown",
      "metadata": {
        "id": "view-in-github",
        "colab_type": "text"
      },
      "source": [
        "<a href=\"https://colab.research.google.com/github/yujiimt/Python_tips/blob/main/Valex/Valex_test.ipynb\" target=\"_parent\"><img src=\"https://colab.research.google.com/assets/colab-badge.svg\" alt=\"Open In Colab\"/></a>"
      ]
    },
    {
      "cell_type": "code",
      "metadata": {
        "id": "PtH8x3zFDCrQ"
      },
      "source": [
        "#https://qiita.com/simonritchie/items/13b6c1b73d0635a0b54f#from_csv%E9%96%A2%E6%95%B0\n",
        "!pip install vaex==2.6.1"
      ],
      "execution_count": null,
      "outputs": []
    },
    {
      "cell_type": "code",
      "metadata": {
        "id": "3hkG62HtEpZr"
      },
      "source": [
        "import vaex\n",
        "import pandas as pd\n",
        "import numpy as np"
      ],
      "execution_count": 14,
      "outputs": []
    },
    {
      "cell_type": "code",
      "metadata": {
        "id": "RPjzydO3FA3A"
      },
      "source": [
        "pandas_df = pd.DataFrame(\n",
        "    data =[{\n",
        "        \"a\":1,\n",
        "        \"b\":2\n",
        "    },{\n",
        "      \"a\":3,\n",
        "      \"b\":4\n",
        "    }]\n",
        ")"
      ],
      "execution_count": 5,
      "outputs": []
    },
    {
      "cell_type": "code",
      "metadata": {
        "colab": {
          "base_uri": "https://localhost:8080/",
          "height": 111
        },
        "id": "-y0ZV6ESFhM2",
        "outputId": "406365f8-4e64-4925-c7be-c3022f224814"
      },
      "source": [
        "pandas_df"
      ],
      "execution_count": 7,
      "outputs": [
        {
          "output_type": "execute_result",
          "data": {
            "text/html": [
              "<div>\n",
              "<style scoped>\n",
              "    .dataframe tbody tr th:only-of-type {\n",
              "        vertical-align: middle;\n",
              "    }\n",
              "\n",
              "    .dataframe tbody tr th {\n",
              "        vertical-align: top;\n",
              "    }\n",
              "\n",
              "    .dataframe thead th {\n",
              "        text-align: right;\n",
              "    }\n",
              "</style>\n",
              "<table border=\"1\" class=\"dataframe\">\n",
              "  <thead>\n",
              "    <tr style=\"text-align: right;\">\n",
              "      <th></th>\n",
              "      <th>a</th>\n",
              "      <th>b</th>\n",
              "    </tr>\n",
              "  </thead>\n",
              "  <tbody>\n",
              "    <tr>\n",
              "      <th>0</th>\n",
              "      <td>1</td>\n",
              "      <td>2</td>\n",
              "    </tr>\n",
              "    <tr>\n",
              "      <th>1</th>\n",
              "      <td>3</td>\n",
              "      <td>4</td>\n",
              "    </tr>\n",
              "  </tbody>\n",
              "</table>\n",
              "</div>"
            ],
            "text/plain": [
              "   a  b\n",
              "0  1  2\n",
              "1  3  4"
            ]
          },
          "metadata": {
            "tags": []
          },
          "execution_count": 7
        }
      ]
    },
    {
      "cell_type": "code",
      "metadata": {
        "colab": {
          "base_uri": "https://localhost:8080/",
          "height": 82
        },
        "id": "cgXpTEMEFhpO",
        "outputId": "b03fd98f-19dc-415c-d091-56c654fa0515"
      },
      "source": [
        "vaex_df = vaex.from_pandas(df=pandas_df, copy_index=False)\n",
        "vaex_df"
      ],
      "execution_count": 9,
      "outputs": [
        {
          "output_type": "execute_result",
          "data": {
            "text/plain": [
              "  #    a    b\n",
              "  0    1    2\n",
              "  1    3    4"
            ],
            "text/html": [
              "<table>\n",
              "<thead>\n",
              "<tr><th>#                            </th><th style=\"text-align: right;\">  a</th><th style=\"text-align: right;\">  b</th></tr>\n",
              "</thead>\n",
              "<tbody>\n",
              "<tr><td>&lt;i style=&#x27;opacity: 0.6&#x27;&gt;0&lt;/i&gt;</td><td style=\"text-align: right;\">  1</td><td style=\"text-align: right;\">  2</td></tr>\n",
              "<tr><td>&lt;i style=&#x27;opacity: 0.6&#x27;&gt;1&lt;/i&gt;</td><td style=\"text-align: right;\">  3</td><td style=\"text-align: right;\">  4</td></tr>\n",
              "</tbody>\n",
              "</table>"
            ]
          },
          "metadata": {
            "tags": []
          },
          "execution_count": 9
        }
      ]
    },
    {
      "cell_type": "code",
      "metadata": {
        "colab": {
          "base_uri": "https://localhost:8080/"
        },
        "id": "NoijcVQzFyP2",
        "outputId": "d5a4ec83-a7eb-4a0e-cd34-55158a81aac1"
      },
      "source": [
        "vaex_df[\"a\"]"
      ],
      "execution_count": 10,
      "outputs": [
        {
          "output_type": "execute_result",
          "data": {
            "text/plain": [
              "Expression = a\n",
              "Length: 2 dtype: int64 (column)\n",
              "-------------------------------\n",
              "0  1\n",
              "1  3"
            ]
          },
          "metadata": {
            "tags": []
          },
          "execution_count": 10
        }
      ]
    },
    {
      "cell_type": "code",
      "metadata": {
        "colab": {
          "base_uri": "https://localhost:8080/"
        },
        "id": "1XKtbrbtGEeT",
        "outputId": "225c9d69-5d7c-4402-937b-7bd8dcbbb734"
      },
      "source": [
        "vaex_df.a"
      ],
      "execution_count": 11,
      "outputs": [
        {
          "output_type": "execute_result",
          "data": {
            "text/plain": [
              "Expression = a\n",
              "Length: 2 dtype: int64 (column)\n",
              "-------------------------------\n",
              "0  1\n",
              "1  3"
            ]
          },
          "metadata": {
            "tags": []
          },
          "execution_count": 11
        }
      ]
    },
    {
      "cell_type": "code",
      "metadata": {
        "colab": {
          "base_uri": "https://localhost:8080/"
        },
        "id": "dcprZSMKGIFp",
        "outputId": "c1465ac0-3096-4109-954f-33ff3315af39"
      },
      "source": [
        "vaex_df.col.a"
      ],
      "execution_count": 13,
      "outputs": [
        {
          "output_type": "execute_result",
          "data": {
            "text/plain": [
              "Expression = a\n",
              "Length: 2 dtype: int64 (column)\n",
              "-------------------------------\n",
              "0  1\n",
              "1  3"
            ]
          },
          "metadata": {
            "tags": []
          },
          "execution_count": 13
        }
      ]
    },
    {
      "cell_type": "code",
      "metadata": {
        "colab": {
          "base_uri": "https://localhost:8080/",
          "height": 419
        },
        "id": "ccL8dS8lGUdn",
        "outputId": "c008b17d-7bae-47b0-fae5-f4c5fa40a313"
      },
      "source": [
        "pandas_df = pd.DataFrame(\n",
        "    columns = [\"x\", \"y\", \"z\"],\n",
        "    index = np.arange(0, 3000000))\n",
        "\n",
        "pandas_df.x = np.random.uniform(low=-100, high = 100, size = len(pandas_df))\n",
        "pandas_df.y = np.random.uniform(low=0, high=200, size=len(pandas_df))\n",
        "pandas_df.z = np.random.uniform(low=0, high=1000, size=len(pandas_df))\n",
        "\n",
        "pandas_df"
      ],
      "execution_count": 30,
      "outputs": [
        {
          "output_type": "execute_result",
          "data": {
            "text/html": [
              "<div>\n",
              "<style scoped>\n",
              "    .dataframe tbody tr th:only-of-type {\n",
              "        vertical-align: middle;\n",
              "    }\n",
              "\n",
              "    .dataframe tbody tr th {\n",
              "        vertical-align: top;\n",
              "    }\n",
              "\n",
              "    .dataframe thead th {\n",
              "        text-align: right;\n",
              "    }\n",
              "</style>\n",
              "<table border=\"1\" class=\"dataframe\">\n",
              "  <thead>\n",
              "    <tr style=\"text-align: right;\">\n",
              "      <th></th>\n",
              "      <th>x</th>\n",
              "      <th>y</th>\n",
              "      <th>z</th>\n",
              "    </tr>\n",
              "  </thead>\n",
              "  <tbody>\n",
              "    <tr>\n",
              "      <th>0</th>\n",
              "      <td>59.982881</td>\n",
              "      <td>175.179774</td>\n",
              "      <td>408.872601</td>\n",
              "    </tr>\n",
              "    <tr>\n",
              "      <th>1</th>\n",
              "      <td>-38.088203</td>\n",
              "      <td>199.158753</td>\n",
              "      <td>893.614228</td>\n",
              "    </tr>\n",
              "    <tr>\n",
              "      <th>2</th>\n",
              "      <td>47.999103</td>\n",
              "      <td>23.764182</td>\n",
              "      <td>818.482482</td>\n",
              "    </tr>\n",
              "    <tr>\n",
              "      <th>3</th>\n",
              "      <td>-6.347350</td>\n",
              "      <td>73.166348</td>\n",
              "      <td>965.123598</td>\n",
              "    </tr>\n",
              "    <tr>\n",
              "      <th>4</th>\n",
              "      <td>67.680440</td>\n",
              "      <td>22.274218</td>\n",
              "      <td>344.689697</td>\n",
              "    </tr>\n",
              "    <tr>\n",
              "      <th>...</th>\n",
              "      <td>...</td>\n",
              "      <td>...</td>\n",
              "      <td>...</td>\n",
              "    </tr>\n",
              "    <tr>\n",
              "      <th>2999995</th>\n",
              "      <td>13.307613</td>\n",
              "      <td>183.854990</td>\n",
              "      <td>106.857612</td>\n",
              "    </tr>\n",
              "    <tr>\n",
              "      <th>2999996</th>\n",
              "      <td>83.608648</td>\n",
              "      <td>79.462204</td>\n",
              "      <td>911.466590</td>\n",
              "    </tr>\n",
              "    <tr>\n",
              "      <th>2999997</th>\n",
              "      <td>-69.857803</td>\n",
              "      <td>43.402366</td>\n",
              "      <td>525.835645</td>\n",
              "    </tr>\n",
              "    <tr>\n",
              "      <th>2999998</th>\n",
              "      <td>60.814145</td>\n",
              "      <td>159.667755</td>\n",
              "      <td>500.605500</td>\n",
              "    </tr>\n",
              "    <tr>\n",
              "      <th>2999999</th>\n",
              "      <td>81.505826</td>\n",
              "      <td>17.692489</td>\n",
              "      <td>525.152219</td>\n",
              "    </tr>\n",
              "  </tbody>\n",
              "</table>\n",
              "<p>3000000 rows × 3 columns</p>\n",
              "</div>"
            ],
            "text/plain": [
              "                 x           y           z\n",
              "0        59.982881  175.179774  408.872601\n",
              "1       -38.088203  199.158753  893.614228\n",
              "2        47.999103   23.764182  818.482482\n",
              "3        -6.347350   73.166348  965.123598\n",
              "4        67.680440   22.274218  344.689697\n",
              "...            ...         ...         ...\n",
              "2999995  13.307613  183.854990  106.857612\n",
              "2999996  83.608648   79.462204  911.466590\n",
              "2999997 -69.857803   43.402366  525.835645\n",
              "2999998  60.814145  159.667755  500.605500\n",
              "2999999  81.505826   17.692489  525.152219\n",
              "\n",
              "[3000000 rows x 3 columns]"
            ]
          },
          "metadata": {
            "tags": []
          },
          "execution_count": 30
        }
      ]
    },
    {
      "cell_type": "code",
      "metadata": {
        "colab": {
          "base_uri": "https://localhost:8080/",
          "height": 271
        },
        "id": "WXpBTwY_HdZO",
        "outputId": "00640aca-fdd6-4abe-d96f-809703b6981f"
      },
      "source": [
        "vaex_df = vaex.from_pandas(df = pandas_df, copy_index=False)\n",
        "vaex_df"
      ],
      "execution_count": 31,
      "outputs": [
        {
          "output_type": "execute_result",
          "data": {
            "text/plain": [
              "#          x                    y                   z\n",
              "0          59.98288121205414    175.17977371873374  408.87260101272074\n",
              "1          -38.088202971514676  199.1587533834253   893.6142279349203\n",
              "2          47.999103314764454   23.764181838007147  818.4824823030982\n",
              "3          -6.3473501394193335  73.16634797229244   965.123597587113\n",
              "4          67.68044019308311    22.274217559269395  344.68969669930596\n",
              "...        ...                  ...                 ...\n",
              "2,999,995  13.307612989015283   183.8549895359743   106.85761191128806\n",
              "2,999,996  83.60864809916026    79.46220407493645   911.4665896140563\n",
              "2,999,997  -69.85780348018405   43.402366152084525  525.8356454052458\n",
              "2,999,998  60.814145352882576   159.66775545623187  500.6055003034418\n",
              "2,999,999  81.50582563480444    17.69248947504407   525.1522189054297"
            ],
            "text/html": [
              "<table>\n",
              "<thead>\n",
              "<tr><th>#                                    </th><th>x                  </th><th>y                 </th><th>z                 </th></tr>\n",
              "</thead>\n",
              "<tbody>\n",
              "<tr><td>&lt;i style=&#x27;opacity: 0.6&#x27;&gt;0&lt;/i&gt;        </td><td>59.98288121205414  </td><td>175.17977371873374</td><td>408.87260101272074</td></tr>\n",
              "<tr><td>&lt;i style=&#x27;opacity: 0.6&#x27;&gt;1&lt;/i&gt;        </td><td>-38.088202971514676</td><td>199.1587533834253 </td><td>893.6142279349203 </td></tr>\n",
              "<tr><td>&lt;i style=&#x27;opacity: 0.6&#x27;&gt;2&lt;/i&gt;        </td><td>47.999103314764454 </td><td>23.764181838007147</td><td>818.4824823030982 </td></tr>\n",
              "<tr><td>&lt;i style=&#x27;opacity: 0.6&#x27;&gt;3&lt;/i&gt;        </td><td>-6.3473501394193335</td><td>73.16634797229244 </td><td>965.123597587113  </td></tr>\n",
              "<tr><td>&lt;i style=&#x27;opacity: 0.6&#x27;&gt;4&lt;/i&gt;        </td><td>67.68044019308311  </td><td>22.274217559269395</td><td>344.68969669930596</td></tr>\n",
              "<tr><td>...                                  </td><td>...                </td><td>...               </td><td>...               </td></tr>\n",
              "<tr><td>&lt;i style=&#x27;opacity: 0.6&#x27;&gt;2,999,995&lt;/i&gt;</td><td>13.307612989015283 </td><td>183.8549895359743 </td><td>106.85761191128806</td></tr>\n",
              "<tr><td>&lt;i style=&#x27;opacity: 0.6&#x27;&gt;2,999,996&lt;/i&gt;</td><td>83.60864809916026  </td><td>79.46220407493645 </td><td>911.4665896140563 </td></tr>\n",
              "<tr><td>&lt;i style=&#x27;opacity: 0.6&#x27;&gt;2,999,997&lt;/i&gt;</td><td>-69.85780348018405 </td><td>43.402366152084525</td><td>525.8356454052458 </td></tr>\n",
              "<tr><td>&lt;i style=&#x27;opacity: 0.6&#x27;&gt;2,999,998&lt;/i&gt;</td><td>60.814145352882576 </td><td>159.66775545623187</td><td>500.6055003034418 </td></tr>\n",
              "<tr><td>&lt;i style=&#x27;opacity: 0.6&#x27;&gt;2,999,999&lt;/i&gt;</td><td>81.50582563480444  </td><td>17.69248947504407 </td><td>525.1522189054297 </td></tr>\n",
              "</tbody>\n",
              "</table>"
            ]
          },
          "metadata": {
            "tags": []
          },
          "execution_count": 31
        }
      ]
    },
    {
      "cell_type": "code",
      "metadata": {
        "colab": {
          "base_uri": "https://localhost:8080/"
        },
        "id": "A2Bx52EAH0ik",
        "outputId": "919f5cef-4f5f-42fc-950c-970206080ab3"
      },
      "source": [
        "numpy_arr = vaex_df.x.values\n",
        "numpy_arr"
      ],
      "execution_count": 17,
      "outputs": [
        {
          "output_type": "execute_result",
          "data": {
            "text/plain": [
              "array([ 56.45310819, -40.44679273, -66.49806809, ..., -74.92497192,\n",
              "        91.05372681,  71.89713938])"
            ]
          },
          "metadata": {
            "tags": []
          },
          "execution_count": 17
        }
      ]
    },
    {
      "cell_type": "code",
      "metadata": {
        "id": "j4IFny13IMZQ"
      },
      "source": [
        "slice_df = vaex_df[vaex_df.x < 0]"
      ],
      "execution_count": 18,
      "outputs": []
    },
    {
      "cell_type": "code",
      "metadata": {
        "colab": {
          "base_uri": "https://localhost:8080/",
          "height": 271
        },
        "id": "6IQU3KNWIZo-",
        "outputId": "08727ba9-c1fd-4a23-cadb-8578586bef3c"
      },
      "source": [
        "slice_df"
      ],
      "execution_count": 19,
      "outputs": [
        {
          "output_type": "execute_result",
          "data": {
            "text/plain": [
              "#          x                    y                   z\n",
              "0          -40.446792730281686  97.66297270940191   995.3459041438771\n",
              "1          -66.49806809203935   52.719191598984835  756.1941755060323\n",
              "2          -89.08220471485937   147.70654641566915  962.962236082097\n",
              "3          -28.059848177957193  18.687585283072995  289.7369388199725\n",
              "4          -1.4999605428447325  104.8879927144291   696.6383774588194\n",
              "...        ...                  ...                 ...\n",
              "1,500,709  -9.324216322372905   192.1747552190605   137.85779232064743\n",
              "1,500,710  -64.29818835720356   86.19236037445603   92.6029814000141\n",
              "1,500,711  -44.6021004300035    144.58723176745522  935.6584319565975\n",
              "1,500,712  -28.196632940945605  14.188195107354984  200.99616016188725\n",
              "1,500,713  -74.92497191563831   144.41016395774972  568.9438743121706"
            ],
            "text/html": [
              "<table>\n",
              "<thead>\n",
              "<tr><th>#                                    </th><th>x                  </th><th>y                 </th><th>z                 </th></tr>\n",
              "</thead>\n",
              "<tbody>\n",
              "<tr><td>&lt;i style=&#x27;opacity: 0.6&#x27;&gt;0&lt;/i&gt;        </td><td>-40.446792730281686</td><td>97.66297270940191 </td><td>995.3459041438771 </td></tr>\n",
              "<tr><td>&lt;i style=&#x27;opacity: 0.6&#x27;&gt;1&lt;/i&gt;        </td><td>-66.49806809203935 </td><td>52.719191598984835</td><td>756.1941755060323 </td></tr>\n",
              "<tr><td>&lt;i style=&#x27;opacity: 0.6&#x27;&gt;2&lt;/i&gt;        </td><td>-89.08220471485937 </td><td>147.70654641566915</td><td>962.962236082097  </td></tr>\n",
              "<tr><td>&lt;i style=&#x27;opacity: 0.6&#x27;&gt;3&lt;/i&gt;        </td><td>-28.059848177957193</td><td>18.687585283072995</td><td>289.7369388199725 </td></tr>\n",
              "<tr><td>&lt;i style=&#x27;opacity: 0.6&#x27;&gt;4&lt;/i&gt;        </td><td>-1.4999605428447325</td><td>104.8879927144291 </td><td>696.6383774588194 </td></tr>\n",
              "<tr><td>...                                  </td><td>...                </td><td>...               </td><td>...               </td></tr>\n",
              "<tr><td>&lt;i style=&#x27;opacity: 0.6&#x27;&gt;1,500,709&lt;/i&gt;</td><td>-9.324216322372905 </td><td>192.1747552190605 </td><td>137.85779232064743</td></tr>\n",
              "<tr><td>&lt;i style=&#x27;opacity: 0.6&#x27;&gt;1,500,710&lt;/i&gt;</td><td>-64.29818835720356 </td><td>86.19236037445603 </td><td>92.6029814000141  </td></tr>\n",
              "<tr><td>&lt;i style=&#x27;opacity: 0.6&#x27;&gt;1,500,711&lt;/i&gt;</td><td>-44.6021004300035  </td><td>144.58723176745522</td><td>935.6584319565975 </td></tr>\n",
              "<tr><td>&lt;i style=&#x27;opacity: 0.6&#x27;&gt;1,500,712&lt;/i&gt;</td><td>-28.196632940945605</td><td>14.188195107354984</td><td>200.99616016188725</td></tr>\n",
              "<tr><td>&lt;i style=&#x27;opacity: 0.6&#x27;&gt;1,500,713&lt;/i&gt;</td><td>-74.92497191563831 </td><td>144.41016395774972</td><td>568.9438743121706 </td></tr>\n",
              "</tbody>\n",
              "</table>"
            ]
          },
          "metadata": {
            "tags": []
          },
          "execution_count": 19
        }
      ]
    },
    {
      "cell_type": "code",
      "metadata": {
        "id": "2bm2NuFWIbSP"
      },
      "source": [
        "pandas_df = pd.DataFrame(\n",
        "    data = [{\n",
        "        \"a\":60,\n",
        "        \"b\":300\n",
        "    },{\n",
        "        \"a\":200,\n",
        "        \"b\":50\n",
        "    },{\n",
        "        \"a\":120,\n",
        "        \"b\":110\n",
        "    }])"
      ],
      "execution_count": 20,
      "outputs": []
    },
    {
      "cell_type": "code",
      "metadata": {
        "colab": {
          "base_uri": "https://localhost:8080/"
        },
        "id": "SV1Qg3IuJGwq",
        "outputId": "62002a9c-b7ff-49eb-8336-55d2f38b8f70"
      },
      "source": [
        "vaex_df = vaex.from_pandas(df=pandas_df, copy_index=False)\n",
        "sliced_df = vaex_df[(vaex_df.a > 100) & (vaex_df.a < 150)]\n",
        "print(sliced_df)"
      ],
      "execution_count": 22,
      "outputs": [
        {
          "output_type": "stream",
          "text": [
            "  #    a    b\n",
            "  0  120  110\n"
          ],
          "name": "stdout"
        }
      ]
    },
    {
      "cell_type": "code",
      "metadata": {
        "colab": {
          "base_uri": "https://localhost:8080/"
        },
        "id": "NRryunQGJc2-",
        "outputId": "7271117a-aa7a-4f4d-f31c-84241f5d9df7"
      },
      "source": [
        "sliced_df = vaex_df[(vaex_df.a == 60) | (vaex_df.a == 120)]\n",
        "print(sliced_df)"
      ],
      "execution_count": 24,
      "outputs": [
        {
          "output_type": "stream",
          "text": [
            "  #    a    b\n",
            "  0   60  300\n",
            "  1  120  110\n"
          ],
          "name": "stdout"
        }
      ]
    },
    {
      "cell_type": "code",
      "metadata": {
        "colab": {
          "base_uri": "https://localhost:8080/"
        },
        "id": "8PquyExuJxxD",
        "outputId": "2a951f8f-3dd1-4728-e32e-fb46cf38b9a5"
      },
      "source": [
        "sliced_df = vaex_df[~(vaex_df.a == 200)]\n",
        "print(sliced_df)"
      ],
      "execution_count": 25,
      "outputs": [
        {
          "output_type": "stream",
          "text": [
            "  #    a    b\n",
            "  0   60  300\n",
            "  1  120  110\n"
          ],
          "name": "stdout"
        }
      ]
    },
    {
      "cell_type": "code",
      "metadata": {
        "colab": {
          "base_uri": "https://localhost:8080/"
        },
        "id": "YIy2L7ngKR5w",
        "outputId": "3df4e034-5087-4416-fc56-e1eeb52b3cea"
      },
      "source": [
        "print(vaex_df.head(n = 2))"
      ],
      "execution_count": 28,
      "outputs": [
        {
          "output_type": "stream",
          "text": [
            "  #    a    b\n",
            "  0   60  300\n",
            "  1  200   50\n"
          ],
          "name": "stdout"
        }
      ]
    },
    {
      "cell_type": "code",
      "metadata": {
        "colab": {
          "base_uri": "https://localhost:8080/"
        },
        "id": "RboDgcf4KXqy",
        "outputId": "2a4e48cf-440c-482b-e3f6-d63961835ec9"
      },
      "source": [
        "vaex_df.count()"
      ],
      "execution_count": 32,
      "outputs": [
        {
          "output_type": "execute_result",
          "data": {
            "text/plain": [
              "array(3000000)"
            ]
          },
          "metadata": {
            "tags": []
          },
          "execution_count": 32
        }
      ]
    },
    {
      "cell_type": "code",
      "metadata": {
        "colab": {
          "base_uri": "https://localhost:8080/"
        },
        "id": "7oE2FLP8KoO6",
        "outputId": "79966da1-ca45-46a8-fb92-057becf794b3"
      },
      "source": [
        "vaex_df.mean(expression=\"x\")"
      ],
      "execution_count": 33,
      "outputs": [
        {
          "output_type": "execute_result",
          "data": {
            "text/plain": [
              "array(-0.04036918)"
            ]
          },
          "metadata": {
            "tags": []
          },
          "execution_count": 33
        }
      ]
    },
    {
      "cell_type": "code",
      "metadata": {
        "colab": {
          "base_uri": "https://localhost:8080/"
        },
        "id": "H65Dwl84LCP7",
        "outputId": "57066fdf-ecb6-49e6-e7df-b8040cb0962b"
      },
      "source": [
        "vaex_df.x.mean()"
      ],
      "execution_count": 34,
      "outputs": [
        {
          "output_type": "execute_result",
          "data": {
            "text/plain": [
              "array(-0.04036918)"
            ]
          },
          "metadata": {
            "tags": []
          },
          "execution_count": 34
        }
      ]
    },
    {
      "cell_type": "code",
      "metadata": {
        "colab": {
          "base_uri": "https://localhost:8080/"
        },
        "id": "LYicXRlvLRuX",
        "outputId": "06a6e58f-f2b9-45c2-f3ec-244ff2a2d619"
      },
      "source": [
        "vaex_df.mean([\"x\", \"y\"])"
      ],
      "execution_count": 35,
      "outputs": [
        {
          "output_type": "execute_result",
          "data": {
            "text/plain": [
              "array([-4.03691769e-02,  9.99832242e+01])"
            ]
          },
          "metadata": {
            "tags": []
          },
          "execution_count": 35
        }
      ]
    },
    {
      "cell_type": "code",
      "metadata": {
        "colab": {
          "base_uri": "https://localhost:8080/"
        },
        "id": "9SzVvkZNLj55",
        "outputId": "978f8693-959e-475a-9009-ca4229c90ba9"
      },
      "source": [
        "vaex_df.count(expression=None)"
      ],
      "execution_count": 36,
      "outputs": [
        {
          "output_type": "execute_result",
          "data": {
            "text/plain": [
              "array(3000000)"
            ]
          },
          "metadata": {
            "tags": []
          },
          "execution_count": 36
        }
      ]
    },
    {
      "cell_type": "code",
      "metadata": {
        "colab": {
          "base_uri": "https://localhost:8080/"
        },
        "id": "ShAhSz1QL4v3",
        "outputId": "d1a189d9-2879-4c13-dbed-b8985d577b34"
      },
      "source": [
        "vaex_df.minmax(expression=\"x\")"
      ],
      "execution_count": 38,
      "outputs": [
        {
          "output_type": "execute_result",
          "data": {
            "text/plain": [
              "array([-99.99996583,  99.99999716])"
            ]
          },
          "metadata": {
            "tags": []
          },
          "execution_count": 38
        }
      ]
    },
    {
      "cell_type": "code",
      "metadata": {
        "colab": {
          "base_uri": "https://localhost:8080/"
        },
        "id": "fJyPqF0WMC5T",
        "outputId": "466ad084-b951-4f17-f100-d3e3feca37f0"
      },
      "source": [
        "vaex_df.correlation(x = \"x\", y = \"y\")"
      ],
      "execution_count": 39,
      "outputs": [
        {
          "output_type": "execute_result",
          "data": {
            "text/plain": [
              "array(0.00045303)"
            ]
          },
          "metadata": {
            "tags": []
          },
          "execution_count": 39
        }
      ]
    },
    {
      "cell_type": "code",
      "metadata": {
        "id": "PyePak6EMZ2p"
      },
      "source": [
        "vaex_df.select(boolean_expression=vaex_df.x > 70)"
      ],
      "execution_count": 41,
      "outputs": []
    },
    {
      "cell_type": "code",
      "metadata": {
        "id": "1GguwzQwNHYF"
      },
      "source": [
        "vaex_df.select(boolean_expression=vaex_df.x > 70, name = \"greater_than_70\")"
      ],
      "execution_count": 42,
      "outputs": []
    },
    {
      "cell_type": "code",
      "metadata": {
        "colab": {
          "base_uri": "https://localhost:8080/"
        },
        "id": "IJB72yzDNkNL",
        "outputId": "3e3c275a-645c-41f0-9468-3bbbb0d422c2"
      },
      "source": [
        "vaex_df.minmax(expression=vaex_df.x, selection=\"greater_than_70\")"
      ],
      "execution_count": 43,
      "outputs": [
        {
          "output_type": "execute_result",
          "data": {
            "text/plain": [
              "array([70.00008542, 99.99999716])"
            ]
          },
          "metadata": {
            "tags": []
          },
          "execution_count": 43
        }
      ]
    },
    {
      "cell_type": "code",
      "metadata": {
        "id": "FNWJyES1Nr6d"
      },
      "source": [
        "sliced_df = vaex_df[vaex_df.x.isin([0, 10])]"
      ],
      "execution_count": 49,
      "outputs": []
    },
    {
      "cell_type": "code",
      "metadata": {
        "id": "nANGUdf8OFk3"
      },
      "source": [
        "pandas_df.to_csv(\"sample_data.csv\", index = False, encoding = \"utf-8\")"
      ],
      "execution_count": 51,
      "outputs": []
    },
    {
      "cell_type": "code",
      "metadata": {
        "colab": {
          "base_uri": "https://localhost:8080/"
        },
        "id": "XxY1toX3PnnH",
        "outputId": "8a5eab88-4cdd-4f89-855c-186aa31530bf"
      },
      "source": [
        "vaex_df = vaex.from_csv(\"sample_data.csv\", copy_index = False)\n",
        "print(vaex_df)"
      ],
      "execution_count": 52,
      "outputs": [
        {
          "output_type": "stream",
          "text": [
            "#          x                    y                   z\n",
            "0          59.98288121205414    175.17977371873374  408.8726010127208\n",
            "1          -38.088202971514676  199.15875338342533  893.6142279349202\n",
            "2          47.999103314764454   23.76418183800715   818.4824823030983\n",
            "3          -6.3473501394193335  73.16634797229243   965.1235975871131\n",
            "4          67.6804401930831     22.274217559269395  344.689696699306\n",
            "...        ...                  ...                 ...\n",
            "2,999,995  13.307612989015286   183.8549895359743   106.85761191128807\n",
            "2,999,996  83.60864809916026    79.46220407493645   911.4665896140564\n",
            "2,999,997  -69.85780348018405   43.40236615208453   525.8356454052458\n",
            "2,999,998  60.814145352882576   159.66775545623187  500.60550030344183\n",
            "2,999,999  81.50582563480444    17.69248947504407   525.1522189054297\n"
          ],
          "name": "stdout"
        }
      ]
    },
    {
      "cell_type": "code",
      "metadata": {
        "id": "FNgezc8KQA1Q"
      },
      "source": [
        "#pandas 経由で読み込んでるから、読み込み自体は早くならない"
      ],
      "execution_count": 53,
      "outputs": []
    },
    {
      "cell_type": "code",
      "metadata": {
        "id": "KYJjUd_xQ_85"
      },
      "source": [
        ""
      ],
      "execution_count": null,
      "outputs": []
    }
  ]
}