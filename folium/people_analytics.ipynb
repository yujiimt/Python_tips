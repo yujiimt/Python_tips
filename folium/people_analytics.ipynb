{
  "nbformat": 4,
  "nbformat_minor": 0,
  "metadata": {
    "colab": {
      "name": "people_analytics.ipynb のコピー",
      "provenance": [],
      "authorship_tag": "ABX9TyOvzGK6OZ8/ADuDAxScuEke",
      "include_colab_link": true
    },
    "kernelspec": {
      "name": "python3",
      "display_name": "Python 3"
    },
    "language_info": {
      "name": "python"
    }
  },
  "cells": [
    {
      "cell_type": "markdown",
      "metadata": {
        "id": "view-in-github",
        "colab_type": "text"
      },
      "source": [
        "<a href=\"https://colab.research.google.com/github/yujiimt/Python_tips/blob/main/folium/people_analytics.ipynb\" target=\"_parent\"><img src=\"https://colab.research.google.com/assets/colab-badge.svg\" alt=\"Open In Colab\"/></a>"
      ]
    },
    {
      "cell_type": "code",
      "metadata": {
        "id": "1738XC37LFoC"
      },
      "source": [
        "import pandas as pd\n",
        "import numpy as np\n",
        "import matplotlib.pyplot as plt\n",
        "import folium"
      ],
      "execution_count": null,
      "outputs": []
    },
    {
      "cell_type": "code",
      "metadata": {
        "colab": {
          "base_uri": "https://localhost:8080/"
        },
        "id": "DW9mh_5GLXRc",
        "outputId": "41f32d66-7653-4ad3-9348-937af3a6024b"
      },
      "source": [
        "from google.colab import drive\n",
        "drive.mount(\"/content/drive\")"
      ],
      "execution_count": null,
      "outputs": [
        {
          "output_type": "stream",
          "text": [
            "Mounted at /content/drive\n"
          ],
          "name": "stdout"
        }
      ]
    },
    {
      "cell_type": "code",
      "metadata": {
        "id": "aId2_IN7T-lX"
      },
      "source": [
        "area_data = pd.read_csv(\"/content/drive/MyDrive/fabeee_pj/area_data/latest.csv\")"
      ],
      "execution_count": null,
      "outputs": []
    },
    {
      "cell_type": "code",
      "metadata": {
        "id": "G2bSvC6xVnrM"
      },
      "source": [
        "ibaraki = area_data[area_data[\"都道府県名\"] == \"茨城県\"]"
      ],
      "execution_count": null,
      "outputs": []
    },
    {
      "cell_type": "code",
      "metadata": {
        "id": "j4NzCvbsV-Pu"
      },
      "source": [
        "moriya = ibaraki[ibaraki[\"市区町村名カナ\"] == \"モリヤシ\"]"
      ],
      "execution_count": null,
      "outputs": []
    },
    {
      "cell_type": "code",
      "metadata": {
        "colab": {
          "base_uri": "https://localhost:8080/",
          "height": 323
        },
        "id": "iMLifPt7WG96",
        "outputId": "c396546e-1cdf-4782-d5b0-870edf412c09"
      },
      "source": [
        "moriya.head()"
      ],
      "execution_count": null,
      "outputs": [
        {
          "output_type": "execute_result",
          "data": {
            "text/html": [
              "<div>\n",
              "<style scoped>\n",
              "    .dataframe tbody tr th:only-of-type {\n",
              "        vertical-align: middle;\n",
              "    }\n",
              "\n",
              "    .dataframe tbody tr th {\n",
              "        vertical-align: top;\n",
              "    }\n",
              "\n",
              "    .dataframe thead th {\n",
              "        text-align: right;\n",
              "    }\n",
              "</style>\n",
              "<table border=\"1\" class=\"dataframe\">\n",
              "  <thead>\n",
              "    <tr style=\"text-align: right;\">\n",
              "      <th></th>\n",
              "      <th>都道府県コード</th>\n",
              "      <th>都道府県名</th>\n",
              "      <th>都道府県名カナ</th>\n",
              "      <th>都道府県名ローマ字</th>\n",
              "      <th>市区町村コード</th>\n",
              "      <th>市区町村名</th>\n",
              "      <th>市区町村名カナ</th>\n",
              "      <th>市区町村名ローマ字</th>\n",
              "      <th>大字町丁目コード</th>\n",
              "      <th>大字町丁目名</th>\n",
              "      <th>緯度</th>\n",
              "      <th>経度</th>\n",
              "    </tr>\n",
              "  </thead>\n",
              "  <tbody>\n",
              "    <tr>\n",
              "      <th>47102</th>\n",
              "      <td>8</td>\n",
              "      <td>茨城県</td>\n",
              "      <td>イバラキケン</td>\n",
              "      <td>IBARAKI KEN</td>\n",
              "      <td>8224</td>\n",
              "      <td>守谷市</td>\n",
              "      <td>モリヤシ</td>\n",
              "      <td>MORIYA SHI</td>\n",
              "      <td>82240001000</td>\n",
              "      <td>赤法花</td>\n",
              "      <td>35.956983</td>\n",
              "      <td>140.008045</td>\n",
              "    </tr>\n",
              "    <tr>\n",
              "      <th>47103</th>\n",
              "      <td>8</td>\n",
              "      <td>茨城県</td>\n",
              "      <td>イバラキケン</td>\n",
              "      <td>IBARAKI KEN</td>\n",
              "      <td>8224</td>\n",
              "      <td>守谷市</td>\n",
              "      <td>モリヤシ</td>\n",
              "      <td>MORIYA SHI</td>\n",
              "      <td>82240002000</td>\n",
              "      <td>板戸井</td>\n",
              "      <td>35.969985</td>\n",
              "      <td>139.945805</td>\n",
              "    </tr>\n",
              "    <tr>\n",
              "      <th>47104</th>\n",
              "      <td>8</td>\n",
              "      <td>茨城県</td>\n",
              "      <td>イバラキケン</td>\n",
              "      <td>IBARAKI KEN</td>\n",
              "      <td>8224</td>\n",
              "      <td>守谷市</td>\n",
              "      <td>モリヤシ</td>\n",
              "      <td>MORIYA SHI</td>\n",
              "      <td>82240003000</td>\n",
              "      <td>大柏</td>\n",
              "      <td>35.938295</td>\n",
              "      <td>139.972790</td>\n",
              "    </tr>\n",
              "    <tr>\n",
              "      <th>47105</th>\n",
              "      <td>8</td>\n",
              "      <td>茨城県</td>\n",
              "      <td>イバラキケン</td>\n",
              "      <td>IBARAKI KEN</td>\n",
              "      <td>8224</td>\n",
              "      <td>守谷市</td>\n",
              "      <td>モリヤシ</td>\n",
              "      <td>MORIYA SHI</td>\n",
              "      <td>82240004000</td>\n",
              "      <td>大木</td>\n",
              "      <td>35.950489</td>\n",
              "      <td>139.937799</td>\n",
              "    </tr>\n",
              "    <tr>\n",
              "      <th>47106</th>\n",
              "      <td>8</td>\n",
              "      <td>茨城県</td>\n",
              "      <td>イバラキケン</td>\n",
              "      <td>IBARAKI KEN</td>\n",
              "      <td>8224</td>\n",
              "      <td>守谷市</td>\n",
              "      <td>モリヤシ</td>\n",
              "      <td>MORIYA SHI</td>\n",
              "      <td>82240005000</td>\n",
              "      <td>大山新田</td>\n",
              "      <td>35.973888</td>\n",
              "      <td>139.964440</td>\n",
              "    </tr>\n",
              "  </tbody>\n",
              "</table>\n",
              "</div>"
            ],
            "text/plain": [
              "       都道府県コード 都道府県名 都道府県名カナ  ... 大字町丁目名         緯度          経度\n",
              "47102        8   茨城県  イバラキケン  ...    赤法花  35.956983  140.008045\n",
              "47103        8   茨城県  イバラキケン  ...    板戸井  35.969985  139.945805\n",
              "47104        8   茨城県  イバラキケン  ...     大柏  35.938295  139.972790\n",
              "47105        8   茨城県  イバラキケン  ...     大木  35.950489  139.937799\n",
              "47106        8   茨城県  イバラキケン  ...   大山新田  35.973888  139.964440\n",
              "\n",
              "[5 rows x 12 columns]"
            ]
          },
          "metadata": {
            "tags": []
          },
          "execution_count": 17
        }
      ]
    },
    {
      "cell_type": "code",
      "metadata": {
        "colab": {
          "base_uri": "https://localhost:8080/",
          "height": 204
        },
        "id": "lKzFC4bwWMEH",
        "outputId": "22bee5cd-c5dd-4027-d781-3ba9bbfd5ad3"
      },
      "source": [
        "city_data = pd.read_csv(\"/content/drive/MyDrive/fabeee_pj/01_moriya/守谷まちづくり/統計データ/moriya_city_people.csv\", header = 1)\n",
        "city_data.head(5)"
      ],
      "execution_count": null,
      "outputs": [
        {
          "output_type": "execute_result",
          "data": {
            "text/html": [
              "<div>\n",
              "<style scoped>\n",
              "    .dataframe tbody tr th:only-of-type {\n",
              "        vertical-align: middle;\n",
              "    }\n",
              "\n",
              "    .dataframe tbody tr th {\n",
              "        vertical-align: top;\n",
              "    }\n",
              "\n",
              "    .dataframe thead th {\n",
              "        text-align: right;\n",
              "    }\n",
              "</style>\n",
              "<table border=\"1\" class=\"dataframe\">\n",
              "  <thead>\n",
              "    <tr style=\"text-align: right;\">\n",
              "      <th></th>\n",
              "      <th>町丁目</th>\n",
              "      <th>世帯数</th>\n",
              "      <th>人口合計</th>\n",
              "      <th>男性人口</th>\n",
              "      <th>女性人口</th>\n",
              "    </tr>\n",
              "  </thead>\n",
              "  <tbody>\n",
              "    <tr>\n",
              "      <th>0</th>\n",
              "      <td>みずき野一丁目</td>\n",
              "      <td>262</td>\n",
              "      <td>593</td>\n",
              "      <td>299</td>\n",
              "      <td>294</td>\n",
              "    </tr>\n",
              "    <tr>\n",
              "      <th>1</th>\n",
              "      <td>みずき野二丁目</td>\n",
              "      <td>179</td>\n",
              "      <td>405</td>\n",
              "      <td>188</td>\n",
              "      <td>217</td>\n",
              "    </tr>\n",
              "    <tr>\n",
              "      <th>2</th>\n",
              "      <td>みずき野三丁目</td>\n",
              "      <td>211</td>\n",
              "      <td>498</td>\n",
              "      <td>240</td>\n",
              "      <td>258</td>\n",
              "    </tr>\n",
              "    <tr>\n",
              "      <th>3</th>\n",
              "      <td>みずき野四丁目</td>\n",
              "      <td>165</td>\n",
              "      <td>386</td>\n",
              "      <td>193</td>\n",
              "      <td>193</td>\n",
              "    </tr>\n",
              "    <tr>\n",
              "      <th>4</th>\n",
              "      <td>みずき野五丁目</td>\n",
              "      <td>211</td>\n",
              "      <td>469</td>\n",
              "      <td>229</td>\n",
              "      <td>240</td>\n",
              "    </tr>\n",
              "  </tbody>\n",
              "</table>\n",
              "</div>"
            ],
            "text/plain": [
              "       町丁目  世帯数  人口合計  男性人口  女性人口\n",
              "0  みずき野一丁目  262   593   299   294\n",
              "1  みずき野二丁目  179   405   188   217\n",
              "2  みずき野三丁目  211   498   240   258\n",
              "3  みずき野四丁目  165   386   193   193\n",
              "4  みずき野五丁目  211   469   229   240"
            ]
          },
          "metadata": {
            "tags": []
          },
          "execution_count": 23
        }
      ]
    },
    {
      "cell_type": "code",
      "metadata": {
        "id": "R2pVPWL9XDFI"
      },
      "source": [
        "city_data.columns = [\"大字町丁目名\", \"世帯数\", \"人口合計\", \"男性人口\", \"女性人口\"]"
      ],
      "execution_count": null,
      "outputs": []
    },
    {
      "cell_type": "code",
      "metadata": {
        "id": "F7ZaVtKXWUKI"
      },
      "source": [
        "merge_data = pd.merge(city_data, moriya, on =  \"大字町丁目名\", how = \"inner\")"
      ],
      "execution_count": null,
      "outputs": []
    },
    {
      "cell_type": "code",
      "metadata": {
        "colab": {
          "base_uri": "https://localhost:8080/",
          "height": 510
        },
        "id": "J21xVDyUYkaN",
        "outputId": "b15b013b-7bbd-4942-f487-7689000e322c"
      },
      "source": [
        "merge_data.head()"
      ],
      "execution_count": null,
      "outputs": [
        {
          "output_type": "execute_result",
          "data": {
            "text/html": [
              "<div>\n",
              "<style scoped>\n",
              "    .dataframe tbody tr th:only-of-type {\n",
              "        vertical-align: middle;\n",
              "    }\n",
              "\n",
              "    .dataframe tbody tr th {\n",
              "        vertical-align: top;\n",
              "    }\n",
              "\n",
              "    .dataframe thead th {\n",
              "        text-align: right;\n",
              "    }\n",
              "</style>\n",
              "<table border=\"1\" class=\"dataframe\">\n",
              "  <thead>\n",
              "    <tr style=\"text-align: right;\">\n",
              "      <th></th>\n",
              "      <th>大字町丁目名</th>\n",
              "      <th>世帯数</th>\n",
              "      <th>人口合計</th>\n",
              "      <th>男性人口</th>\n",
              "      <th>女性人口</th>\n",
              "      <th>都道府県コード</th>\n",
              "      <th>都道府県名</th>\n",
              "      <th>都道府県名カナ</th>\n",
              "      <th>都道府県名ローマ字</th>\n",
              "      <th>市区町村コード</th>\n",
              "      <th>市区町村名</th>\n",
              "      <th>市区町村名カナ</th>\n",
              "      <th>市区町村名ローマ字</th>\n",
              "      <th>大字町丁目コード</th>\n",
              "      <th>緯度</th>\n",
              "      <th>経度</th>\n",
              "    </tr>\n",
              "  </thead>\n",
              "  <tbody>\n",
              "    <tr>\n",
              "      <th>0</th>\n",
              "      <td>みずき野一丁目</td>\n",
              "      <td>262</td>\n",
              "      <td>593</td>\n",
              "      <td>299</td>\n",
              "      <td>294</td>\n",
              "      <td>8</td>\n",
              "      <td>茨城県</td>\n",
              "      <td>イバラキケン</td>\n",
              "      <td>IBARAKI KEN</td>\n",
              "      <td>8224</td>\n",
              "      <td>守谷市</td>\n",
              "      <td>モリヤシ</td>\n",
              "      <td>MORIYA SHI</td>\n",
              "      <td>82240022001</td>\n",
              "      <td>35.934379</td>\n",
              "      <td>140.007284</td>\n",
              "    </tr>\n",
              "    <tr>\n",
              "      <th>1</th>\n",
              "      <td>みずき野二丁目</td>\n",
              "      <td>179</td>\n",
              "      <td>405</td>\n",
              "      <td>188</td>\n",
              "      <td>217</td>\n",
              "      <td>8</td>\n",
              "      <td>茨城県</td>\n",
              "      <td>イバラキケン</td>\n",
              "      <td>IBARAKI KEN</td>\n",
              "      <td>8224</td>\n",
              "      <td>守谷市</td>\n",
              "      <td>モリヤシ</td>\n",
              "      <td>MORIYA SHI</td>\n",
              "      <td>82240022002</td>\n",
              "      <td>35.933902</td>\n",
              "      <td>140.011828</td>\n",
              "    </tr>\n",
              "    <tr>\n",
              "      <th>2</th>\n",
              "      <td>みずき野三丁目</td>\n",
              "      <td>211</td>\n",
              "      <td>498</td>\n",
              "      <td>240</td>\n",
              "      <td>258</td>\n",
              "      <td>8</td>\n",
              "      <td>茨城県</td>\n",
              "      <td>イバラキケン</td>\n",
              "      <td>IBARAKI KEN</td>\n",
              "      <td>8224</td>\n",
              "      <td>守谷市</td>\n",
              "      <td>モリヤシ</td>\n",
              "      <td>MORIYA SHI</td>\n",
              "      <td>82240022003</td>\n",
              "      <td>35.932759</td>\n",
              "      <td>140.015076</td>\n",
              "    </tr>\n",
              "    <tr>\n",
              "      <th>3</th>\n",
              "      <td>みずき野四丁目</td>\n",
              "      <td>165</td>\n",
              "      <td>386</td>\n",
              "      <td>193</td>\n",
              "      <td>193</td>\n",
              "      <td>8</td>\n",
              "      <td>茨城県</td>\n",
              "      <td>イバラキケン</td>\n",
              "      <td>IBARAKI KEN</td>\n",
              "      <td>8224</td>\n",
              "      <td>守谷市</td>\n",
              "      <td>モリヤシ</td>\n",
              "      <td>MORIYA SHI</td>\n",
              "      <td>82240022004</td>\n",
              "      <td>35.935897</td>\n",
              "      <td>140.016035</td>\n",
              "    </tr>\n",
              "    <tr>\n",
              "      <th>4</th>\n",
              "      <td>みずき野五丁目</td>\n",
              "      <td>211</td>\n",
              "      <td>469</td>\n",
              "      <td>229</td>\n",
              "      <td>240</td>\n",
              "      <td>8</td>\n",
              "      <td>茨城県</td>\n",
              "      <td>イバラキケン</td>\n",
              "      <td>IBARAKI KEN</td>\n",
              "      <td>8224</td>\n",
              "      <td>守谷市</td>\n",
              "      <td>モリヤシ</td>\n",
              "      <td>MORIYA SHI</td>\n",
              "      <td>82240022005</td>\n",
              "      <td>35.936934</td>\n",
              "      <td>140.012427</td>\n",
              "    </tr>\n",
              "  </tbody>\n",
              "</table>\n",
              "</div>"
            ],
            "text/plain": [
              "    大字町丁目名  世帯数  人口合計  男性人口  ...   市区町村名ローマ字     大字町丁目コード         緯度          経度\n",
              "0  みずき野一丁目  262   593   299  ...  MORIYA SHI  82240022001  35.934379  140.007284\n",
              "1  みずき野二丁目  179   405   188  ...  MORIYA SHI  82240022002  35.933902  140.011828\n",
              "2  みずき野三丁目  211   498   240  ...  MORIYA SHI  82240022003  35.932759  140.015076\n",
              "3  みずき野四丁目  165   386   193  ...  MORIYA SHI  82240022004  35.935897  140.016035\n",
              "4  みずき野五丁目  211   469   229  ...  MORIYA SHI  82240022005  35.936934  140.012427\n",
              "\n",
              "[5 rows x 16 columns]"
            ]
          },
          "metadata": {
            "tags": []
          },
          "execution_count": 52
        }
      ]
    },
    {
      "cell_type": "code",
      "metadata": {
        "id": "_7Ot28AIY64A"
      },
      "source": [
        "#moriya_station = folium.Map(location = [35.9501398, 139.9918898], zoom_start = 10)\n",
        "\n",
        "moriya_map = folium.Map(location = [35.9501398, 139.9918898], zoom_start = 14)"
      ],
      "execution_count": null,
      "outputs": []
    },
    {
      "cell_type": "code",
      "metadata": {
        "id": "UIuiTH3fijVi"
      },
      "source": [
        "area_data = []\n",
        "keido = list(merge_data['経度'])\n",
        "ido = list(merge_data['緯度'])\n",
        "sum_people = list(merge_data[\"人口合計\"])\n",
        " \n",
        "for k, i, c in zip(keido, ido, sum_people):\n",
        "    area_data.append((i, k, c))"
      ],
      "execution_count": null,
      "outputs": []
    },
    {
      "cell_type": "code",
      "metadata": {
        "id": "dYoim7uRjy-D"
      },
      "source": [
        "moriya_heatmap = moriya_map"
      ],
      "execution_count": null,
      "outputs": []
    },
    {
      "cell_type": "code",
      "metadata": {
        "id": "M_iKX78cjz9q"
      },
      "source": [
        "from folium.plugins import HeatMap\n",
        "moriya_heatmap.add_child(HeatMap(area_data,  gradient={8: 'blue', 499: 'lime', 691:'yellow',989: 'orange', 7643:'red'}))\n",
        "moriya_heatmap"
      ],
      "execution_count": null,
      "outputs": []
    },
    {
      "cell_type": "code",
      "metadata": {
        "colab": {
          "base_uri": "https://localhost:8080/",
          "height": 314
        },
        "id": "SWCHOiAmmhNY",
        "outputId": "10bf5e92-e029-47d0-aca7-bedec2a4044e"
      },
      "source": [
        "merge_data.describe()"
      ],
      "execution_count": null,
      "outputs": [
        {
          "output_type": "execute_result",
          "data": {
            "text/html": [
              "<div>\n",
              "<style scoped>\n",
              "    .dataframe tbody tr th:only-of-type {\n",
              "        vertical-align: middle;\n",
              "    }\n",
              "\n",
              "    .dataframe tbody tr th {\n",
              "        vertical-align: top;\n",
              "    }\n",
              "\n",
              "    .dataframe thead th {\n",
              "        text-align: right;\n",
              "    }\n",
              "</style>\n",
              "<table border=\"1\" class=\"dataframe\">\n",
              "  <thead>\n",
              "    <tr style=\"text-align: right;\">\n",
              "      <th></th>\n",
              "      <th>世帯数</th>\n",
              "      <th>人口合計</th>\n",
              "      <th>男性人口</th>\n",
              "      <th>女性人口</th>\n",
              "      <th>都道府県コード</th>\n",
              "      <th>市区町村コード</th>\n",
              "      <th>大字町丁目コード</th>\n",
              "      <th>緯度</th>\n",
              "      <th>経度</th>\n",
              "    </tr>\n",
              "  </thead>\n",
              "  <tbody>\n",
              "    <tr>\n",
              "      <th>count</th>\n",
              "      <td>74.000000</td>\n",
              "      <td>74.000000</td>\n",
              "      <td>74.000000</td>\n",
              "      <td>74.000000</td>\n",
              "      <td>74.0</td>\n",
              "      <td>74.0</td>\n",
              "      <td>7.400000e+01</td>\n",
              "      <td>74.000000</td>\n",
              "      <td>74.000000</td>\n",
              "    </tr>\n",
              "    <tr>\n",
              "      <th>mean</th>\n",
              "      <td>361.148649</td>\n",
              "      <td>874.243243</td>\n",
              "      <td>440.351351</td>\n",
              "      <td>433.891892</td>\n",
              "      <td>8.0</td>\n",
              "      <td>8224.0</td>\n",
              "      <td>8.224002e+10</td>\n",
              "      <td>35.949867</td>\n",
              "      <td>139.985610</td>\n",
              "    </tr>\n",
              "    <tr>\n",
              "      <th>std</th>\n",
              "      <td>402.264265</td>\n",
              "      <td>925.116872</td>\n",
              "      <td>475.565487</td>\n",
              "      <td>450.156976</td>\n",
              "      <td>0.0</td>\n",
              "      <td>0.0</td>\n",
              "      <td>7.035538e+03</td>\n",
              "      <td>0.015083</td>\n",
              "      <td>0.018176</td>\n",
              "    </tr>\n",
              "    <tr>\n",
              "      <th>min</th>\n",
              "      <td>6.000000</td>\n",
              "      <td>8.000000</td>\n",
              "      <td>6.000000</td>\n",
              "      <td>2.000000</td>\n",
              "      <td>8.0</td>\n",
              "      <td>8224.0</td>\n",
              "      <td>8.224000e+10</td>\n",
              "      <td>35.921982</td>\n",
              "      <td>139.937799</td>\n",
              "    </tr>\n",
              "    <tr>\n",
              "      <th>25%</th>\n",
              "      <td>212.500000</td>\n",
              "      <td>499.500000</td>\n",
              "      <td>255.250000</td>\n",
              "      <td>243.500000</td>\n",
              "      <td>8.0</td>\n",
              "      <td>8224.0</td>\n",
              "      <td>8.224001e+10</td>\n",
              "      <td>35.937562</td>\n",
              "      <td>139.972636</td>\n",
              "    </tr>\n",
              "    <tr>\n",
              "      <th>50%</th>\n",
              "      <td>291.500000</td>\n",
              "      <td>691.000000</td>\n",
              "      <td>343.500000</td>\n",
              "      <td>348.500000</td>\n",
              "      <td>8.0</td>\n",
              "      <td>8224.0</td>\n",
              "      <td>8.224002e+10</td>\n",
              "      <td>35.950222</td>\n",
              "      <td>139.986015</td>\n",
              "    </tr>\n",
              "    <tr>\n",
              "      <th>75%</th>\n",
              "      <td>390.000000</td>\n",
              "      <td>989.250000</td>\n",
              "      <td>488.500000</td>\n",
              "      <td>480.250000</td>\n",
              "      <td>8.0</td>\n",
              "      <td>8224.0</td>\n",
              "      <td>8.224002e+10</td>\n",
              "      <td>35.964293</td>\n",
              "      <td>140.000473</td>\n",
              "    </tr>\n",
              "    <tr>\n",
              "      <th>max</th>\n",
              "      <td>3393.000000</td>\n",
              "      <td>7643.000000</td>\n",
              "      <td>3941.000000</td>\n",
              "      <td>3702.000000</td>\n",
              "      <td>8.0</td>\n",
              "      <td>8224.0</td>\n",
              "      <td>8.224003e+10</td>\n",
              "      <td>35.974357</td>\n",
              "      <td>140.016983</td>\n",
              "    </tr>\n",
              "  </tbody>\n",
              "</table>\n",
              "</div>"
            ],
            "text/plain": [
              "               世帯数         人口合計  ...         緯度          経度\n",
              "count    74.000000    74.000000  ...  74.000000   74.000000\n",
              "mean    361.148649   874.243243  ...  35.949867  139.985610\n",
              "std     402.264265   925.116872  ...   0.015083    0.018176\n",
              "min       6.000000     8.000000  ...  35.921982  139.937799\n",
              "25%     212.500000   499.500000  ...  35.937562  139.972636\n",
              "50%     291.500000   691.000000  ...  35.950222  139.986015\n",
              "75%     390.000000   989.250000  ...  35.964293  140.000473\n",
              "max    3393.000000  7643.000000  ...  35.974357  140.016983\n",
              "\n",
              "[8 rows x 9 columns]"
            ]
          },
          "metadata": {
            "tags": []
          },
          "execution_count": 74
        }
      ]
    },
    {
      "cell_type": "code",
      "metadata": {
        "id": "FyOWgR4CoHpT"
      },
      "source": [
        "moriya_map = folium.Map(location = [35.9501398, 139.9918898], zoom_start = 14)\n",
        "\n",
        "for lat, lon, name, setai, goukei, man, women,  in zip(merge_data[\"緯度\"], merge_data[\"経度\"], merge_data[\"大字町丁目名\"],merge_data[\"世帯数\"], merge_data[\"人口合計\"],\tmerge_data[\"男性人口\"], merge_data[\"女性人口\"]):\n",
        "  folium.Marker(\n",
        "        location=[lat, lon],\n",
        "        popup=\"\".join([\"世帯:\" + str(setai)  , \"  世帯合計:\" + str(goukei), \"  男性:\" + str(man), \"  女性:\" + str(women)]),\n",
        "        tooltip=name,\n",
        "    ).add_to(moriya_map)"
      ],
      "execution_count": null,
      "outputs": []
    },
    {
      "cell_type": "code",
      "metadata": {
        "id": "TszWoAc8qpmF"
      },
      "source": [
        "moriya_map.save(\"moriya.html\")"
      ],
      "execution_count": null,
      "outputs": []
    },
    {
      "cell_type": "code",
      "metadata": {
        "id": "-DkpGiWaqrfO"
      },
      "source": [
        "moriya_map"
      ],
      "execution_count": null,
      "outputs": []
    },
    {
      "cell_type": "code",
      "metadata": {
        "id": "SHjA7b3dvhcn"
      },
      "source": [
        ""
      ],
      "execution_count": null,
      "outputs": []
    }
  ]
}